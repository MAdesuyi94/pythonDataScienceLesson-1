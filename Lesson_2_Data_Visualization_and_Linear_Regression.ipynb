{
 "cells": [
  {
   "cell_type": "markdown",
   "metadata": {
    "application/vnd.databricks.v1+cell": {
     "cellMetadata": {},
     "inputWidgets": {},
     "nuid": "fcef7c1f-b579-4e2e-8645-37a784fb1ba0",
     "showTitle": false,
     "tableResultSettingsMap": {},
     "title": ""
    }
   },
   "source": [
    "# Lesson 2: Data Exploration and Linear Regression"
   ]
  },
  {
   "cell_type": "markdown",
   "metadata": {
    "application/vnd.databricks.v1+cell": {
     "cellMetadata": {},
     "inputWidgets": {},
     "nuid": "cdc5b4ed-70b8-4a72-b9e3-c2b54dbc35be",
     "showTitle": false,
     "tableResultSettingsMap": {},
     "title": ""
    }
   },
   "source": [
    "## Import Packages"
   ]
  },
  {
   "cell_type": "code",
   "execution_count": 25,
   "metadata": {
    "application/vnd.databricks.v1+cell": {
     "cellMetadata": {
      "byteLimit": 2048000,
      "rowLimit": 10000
     },
     "inputWidgets": {},
     "nuid": "432b8dc3-28a7-48af-95ba-e8294a62b649",
     "showTitle": false,
     "tableResultSettingsMap": {},
     "title": ""
    }
   },
   "outputs": [],
   "source": [
    "#Importing packages\n",
    "import pandas as pd # Package for data manipulation\n",
    "import numpy as np # Package for working with arrays and matrices\n",
    "import matplotlib.pyplot as plt # Package for creating visualizations\n",
    "import seaborn as sns # Packag for creating visualizations (easier & more colorful than matplotlib)\n",
    "from sklearn.model_selection import train_test_split # Package for splitting data into training and testing sets\n",
    "from sklearn.linear_model import LinearRegression # Package for building linear regression models\n",
    "from sklearn.metrics import r2_score, mean_squared_error # Package for evaluating model performance\n",
    "import warnings\n",
    "warnings.filterwarnings('ignore') # Mute Warnings"
   ]
  },
  {
   "cell_type": "markdown",
   "metadata": {
    "application/vnd.databricks.v1+cell": {
     "cellMetadata": {},
     "inputWidgets": {},
     "nuid": "ad03f25b-93ee-4784-870f-97a8de2f97b9",
     "showTitle": false,
     "tableResultSettingsMap": {},
     "title": ""
    }
   },
   "source": [
    "## Import and Visualize the Data"
   ]
  },
  {
   "cell_type": "code",
   "execution_count": 26,
   "metadata": {
    "application/vnd.databricks.v1+cell": {
     "cellMetadata": {
      "byteLimit": 2048000,
      "rowLimit": 10000
     },
     "inputWidgets": {},
     "nuid": "5a6f9d81-24d1-49bd-abe1-86d6db2b7d5d",
     "showTitle": false,
     "tableResultSettingsMap": {},
     "title": ""
    }
   },
   "outputs": [
    {
     "data": {
      "application/vnd.microsoft.datawrangler.viewer.v0+json": {
       "columns": [
        {
         "name": "index",
         "rawType": "int64",
         "type": "integer"
        },
        {
         "name": "Age",
         "rawType": "float64",
         "type": "float"
        },
        {
         "name": "Gender",
         "rawType": "object",
         "type": "unknown"
        },
        {
         "name": "Education Level",
         "rawType": "object",
         "type": "unknown"
        },
        {
         "name": "Job Title",
         "rawType": "object",
         "type": "unknown"
        },
        {
         "name": "Years of Experience",
         "rawType": "float64",
         "type": "float"
        },
        {
         "name": "Salary",
         "rawType": "float64",
         "type": "float"
        }
       ],
       "ref": "3c17c54e-ffba-44b1-9030-0f77384febba",
       "rows": [
        [
         "0",
         "32.0",
         "Male",
         "Bachelor's",
         "Software Engineer",
         "5.0",
         "90000.0"
        ],
        [
         "1",
         "28.0",
         "Female",
         "Master's",
         "Data Analyst",
         "3.0",
         "65000.0"
        ],
        [
         "2",
         "45.0",
         "Male",
         "PhD",
         "Senior Manager",
         "15.0",
         "150000.0"
        ],
        [
         "3",
         "36.0",
         "Female",
         "Bachelor's",
         "Sales Associate",
         "7.0",
         "60000.0"
        ],
        [
         "4",
         "52.0",
         "Male",
         "Master's",
         "Director",
         "20.0",
         "200000.0"
        ],
        [
         "5",
         "29.0",
         "Male",
         "Bachelor's",
         "Marketing Analyst",
         "2.0",
         "55000.0"
        ],
        [
         "6",
         "42.0",
         "Female",
         "Master's",
         "Product Manager",
         "12.0",
         "120000.0"
        ],
        [
         "7",
         "31.0",
         "Male",
         "Bachelor's",
         "Sales Manager",
         "4.0",
         "80000.0"
        ],
        [
         "8",
         "26.0",
         "Female",
         "Bachelor's",
         "Marketing Coordinator",
         "1.0",
         "45000.0"
        ],
        [
         "9",
         "38.0",
         "Male",
         "PhD",
         "Senior Scientist",
         "10.0",
         "110000.0"
        ],
        [
         "10",
         "29.0",
         "Male",
         "Master's",
         "Software Developer",
         "3.0",
         "75000.0"
        ],
        [
         "11",
         "48.0",
         "Female",
         "Bachelor's",
         "HR Manager",
         "18.0",
         "140000.0"
        ],
        [
         "12",
         "35.0",
         "Male",
         "Bachelor's",
         "Financial Analyst",
         "6.0",
         "65000.0"
        ],
        [
         "13",
         "40.0",
         "Female",
         "Master's",
         "Project Manager",
         "14.0",
         "130000.0"
        ],
        [
         "14",
         "27.0",
         "Male",
         "Bachelor's",
         "Customer Service Rep",
         "2.0",
         "40000.0"
        ],
        [
         "15",
         "44.0",
         "Male",
         "Bachelor's",
         "Operations Manager",
         "16.0",
         "125000.0"
        ],
        [
         "16",
         "33.0",
         "Female",
         "Master's",
         "Marketing Manager",
         "7.0",
         "90000.0"
        ],
        [
         "17",
         "39.0",
         "Male",
         "PhD",
         "Senior Engineer",
         "12.0",
         "115000.0"
        ],
        [
         "18",
         "25.0",
         "Female",
         "Bachelor's",
         "Data Entry Clerk",
         "0.0",
         "35000.0"
        ],
        [
         "19",
         "51.0",
         "Male",
         "Bachelor's",
         "Sales Director",
         "22.0",
         "180000.0"
        ],
        [
         "20",
         "34.0",
         "Female",
         "Master's",
         "Business Analyst",
         "5.0",
         "80000.0"
        ],
        [
         "21",
         "47.0",
         "Male",
         "Master's",
         "VP of Operations",
         "19.0",
         "190000.0"
        ],
        [
         "22",
         "30.0",
         "Male",
         "Bachelor's",
         "IT Support",
         "2.0",
         "50000.0"
        ],
        [
         "23",
         "36.0",
         "Female",
         "Bachelor's",
         "Recruiter",
         "9.0",
         "60000.0"
        ],
        [
         "24",
         "41.0",
         "Male",
         "Master's",
         "Financial Manager",
         "13.0",
         "140000.0"
        ],
        [
         "25",
         "28.0",
         "Female",
         "Bachelor's",
         "Social Media Specialist",
         "3.0",
         "45000.0"
        ],
        [
         "26",
         "37.0",
         "Female",
         "Master's",
         "Software Manager",
         "11.0",
         "110000.0"
        ],
        [
         "27",
         "24.0",
         "Male",
         "Bachelor's",
         "Junior Developer",
         "1.0",
         "40000.0"
        ],
        [
         "28",
         "43.0",
         "Female",
         "PhD",
         "Senior Consultant",
         "15.0",
         "140000.0"
        ],
        [
         "29",
         "33.0",
         "Male",
         "Master's",
         "Product Designer",
         "6.0",
         "90000.0"
        ],
        [
         "30",
         "50.0",
         "Male",
         "Bachelor's",
         "CEO",
         "25.0",
         "250000.0"
        ],
        [
         "31",
         "31.0",
         "Female",
         "Bachelor's",
         "Accountant",
         "4.0",
         "55000.0"
        ],
        [
         "32",
         "29.0",
         "Male",
         "Master's",
         "Data Scientist",
         "3.0",
         "75000.0"
        ],
        [
         "33",
         "39.0",
         "Female",
         "Bachelor's",
         "Marketing Specialist",
         "10.0",
         "65000.0"
        ],
        [
         "34",
         "46.0",
         "Male",
         "PhD",
         "Senior Manager",
         "20.0",
         "170000.0"
        ],
        [
         "35",
         "27.0",
         "Male",
         "Bachelor's",
         "Technical Writer",
         "2.0",
         "45000.0"
        ],
        [
         "36",
         "35.0",
         "Female",
         "Bachelor's",
         "HR Generalist",
         "7.0",
         "60000.0"
        ],
        [
         "37",
         "42.0",
         "Male",
         "Master's",
         "Project Engineer",
         "14.0",
         "115000.0"
        ],
        [
         "38",
         "26.0",
         "Female",
         "Bachelor's",
         "Customer Success Rep",
         "1.0",
         "40000.0"
        ],
        [
         "39",
         "49.0",
         "Male",
         "Bachelor's",
         "Sales Executive",
         "21.0",
         "160000.0"
        ],
        [
         "40",
         "34.0",
         "Female",
         "Master's",
         "UX Designer",
         "5.0",
         "80000.0"
        ],
        [
         "41",
         "48.0",
         "Male",
         "Master's",
         "Operations Director",
         "18.0",
         "190000.0"
        ],
        [
         "42",
         "30.0",
         "Male",
         "Bachelor's",
         "Network Engineer",
         "3.0",
         "60000.0"
        ],
        [
         "43",
         "36.0",
         "Female",
         "Bachelor's",
         "Administrative Assistant",
         "8.0",
         "45000.0"
        ],
        [
         "44",
         "41.0",
         "Male",
         "Master's",
         "Strategy Consultant",
         "13.0",
         "130000.0"
        ],
        [
         "45",
         "28.0",
         "Female",
         "Bachelor's",
         "Copywriter",
         "2.0",
         "40000.0"
        ],
        [
         "46",
         "32.0",
         "Male",
         "Bachelor's",
         "Account Manager",
         "5.0",
         "75000.0"
        ],
        [
         "47",
         "45.0",
         "Female",
         "Master's",
         "Director of Marketing",
         "16.0",
         "180000.0"
        ],
        [
         "48",
         "38.0",
         "Male",
         "PhD",
         "Senior Scientist",
         "11.0",
         "120000.0"
        ],
        [
         "49",
         "25.0",
         "Male",
         "Bachelor's",
         "Help Desk Analyst",
         "0.0",
         "35000.0"
        ]
       ],
       "shape": {
        "columns": 6,
        "rows": 375
       }
      },
      "text/html": [
       "<div>\n",
       "<style scoped>\n",
       "    .dataframe tbody tr th:only-of-type {\n",
       "        vertical-align: middle;\n",
       "    }\n",
       "\n",
       "    .dataframe tbody tr th {\n",
       "        vertical-align: top;\n",
       "    }\n",
       "\n",
       "    .dataframe thead th {\n",
       "        text-align: right;\n",
       "    }\n",
       "</style>\n",
       "<table border=\"1\" class=\"dataframe\">\n",
       "  <thead>\n",
       "    <tr style=\"text-align: right;\">\n",
       "      <th></th>\n",
       "      <th>Age</th>\n",
       "      <th>Gender</th>\n",
       "      <th>Education Level</th>\n",
       "      <th>Job Title</th>\n",
       "      <th>Years of Experience</th>\n",
       "      <th>Salary</th>\n",
       "    </tr>\n",
       "  </thead>\n",
       "  <tbody>\n",
       "    <tr>\n",
       "      <th>0</th>\n",
       "      <td>32.0</td>\n",
       "      <td>Male</td>\n",
       "      <td>Bachelor's</td>\n",
       "      <td>Software Engineer</td>\n",
       "      <td>5.0</td>\n",
       "      <td>90000.0</td>\n",
       "    </tr>\n",
       "    <tr>\n",
       "      <th>1</th>\n",
       "      <td>28.0</td>\n",
       "      <td>Female</td>\n",
       "      <td>Master's</td>\n",
       "      <td>Data Analyst</td>\n",
       "      <td>3.0</td>\n",
       "      <td>65000.0</td>\n",
       "    </tr>\n",
       "    <tr>\n",
       "      <th>2</th>\n",
       "      <td>45.0</td>\n",
       "      <td>Male</td>\n",
       "      <td>PhD</td>\n",
       "      <td>Senior Manager</td>\n",
       "      <td>15.0</td>\n",
       "      <td>150000.0</td>\n",
       "    </tr>\n",
       "    <tr>\n",
       "      <th>3</th>\n",
       "      <td>36.0</td>\n",
       "      <td>Female</td>\n",
       "      <td>Bachelor's</td>\n",
       "      <td>Sales Associate</td>\n",
       "      <td>7.0</td>\n",
       "      <td>60000.0</td>\n",
       "    </tr>\n",
       "    <tr>\n",
       "      <th>4</th>\n",
       "      <td>52.0</td>\n",
       "      <td>Male</td>\n",
       "      <td>Master's</td>\n",
       "      <td>Director</td>\n",
       "      <td>20.0</td>\n",
       "      <td>200000.0</td>\n",
       "    </tr>\n",
       "    <tr>\n",
       "      <th>...</th>\n",
       "      <td>...</td>\n",
       "      <td>...</td>\n",
       "      <td>...</td>\n",
       "      <td>...</td>\n",
       "      <td>...</td>\n",
       "      <td>...</td>\n",
       "    </tr>\n",
       "    <tr>\n",
       "      <th>370</th>\n",
       "      <td>35.0</td>\n",
       "      <td>Female</td>\n",
       "      <td>Bachelor's</td>\n",
       "      <td>Senior Marketing Analyst</td>\n",
       "      <td>8.0</td>\n",
       "      <td>85000.0</td>\n",
       "    </tr>\n",
       "    <tr>\n",
       "      <th>371</th>\n",
       "      <td>43.0</td>\n",
       "      <td>Male</td>\n",
       "      <td>Master's</td>\n",
       "      <td>Director of Operations</td>\n",
       "      <td>19.0</td>\n",
       "      <td>170000.0</td>\n",
       "    </tr>\n",
       "    <tr>\n",
       "      <th>372</th>\n",
       "      <td>29.0</td>\n",
       "      <td>Female</td>\n",
       "      <td>Bachelor's</td>\n",
       "      <td>Junior Project Manager</td>\n",
       "      <td>2.0</td>\n",
       "      <td>40000.0</td>\n",
       "    </tr>\n",
       "    <tr>\n",
       "      <th>373</th>\n",
       "      <td>34.0</td>\n",
       "      <td>Male</td>\n",
       "      <td>Bachelor's</td>\n",
       "      <td>Senior Operations Coordinator</td>\n",
       "      <td>7.0</td>\n",
       "      <td>90000.0</td>\n",
       "    </tr>\n",
       "    <tr>\n",
       "      <th>374</th>\n",
       "      <td>44.0</td>\n",
       "      <td>Female</td>\n",
       "      <td>PhD</td>\n",
       "      <td>Senior Business Analyst</td>\n",
       "      <td>15.0</td>\n",
       "      <td>150000.0</td>\n",
       "    </tr>\n",
       "  </tbody>\n",
       "</table>\n",
       "<p>375 rows × 6 columns</p>\n",
       "</div>"
      ],
      "text/plain": [
       "      Age  Gender Education Level                      Job Title  \\\n",
       "0    32.0    Male      Bachelor's              Software Engineer   \n",
       "1    28.0  Female        Master's                   Data Analyst   \n",
       "2    45.0    Male             PhD                 Senior Manager   \n",
       "3    36.0  Female      Bachelor's                Sales Associate   \n",
       "4    52.0    Male        Master's                       Director   \n",
       "..    ...     ...             ...                            ...   \n",
       "370  35.0  Female      Bachelor's       Senior Marketing Analyst   \n",
       "371  43.0    Male        Master's         Director of Operations   \n",
       "372  29.0  Female      Bachelor's         Junior Project Manager   \n",
       "373  34.0    Male      Bachelor's  Senior Operations Coordinator   \n",
       "374  44.0  Female             PhD        Senior Business Analyst   \n",
       "\n",
       "     Years of Experience    Salary  \n",
       "0                    5.0   90000.0  \n",
       "1                    3.0   65000.0  \n",
       "2                   15.0  150000.0  \n",
       "3                    7.0   60000.0  \n",
       "4                   20.0  200000.0  \n",
       "..                   ...       ...  \n",
       "370                  8.0   85000.0  \n",
       "371                 19.0  170000.0  \n",
       "372                  2.0   40000.0  \n",
       "373                  7.0   90000.0  \n",
       "374                 15.0  150000.0  \n",
       "\n",
       "[375 rows x 6 columns]"
      ]
     },
     "execution_count": 26,
     "metadata": {},
     "output_type": "execute_result"
    }
   ],
   "source": [
    "# Have pandas read thee salary data csv file\n",
    "df = pd.read_csv(\"files/Salary Data.csv\")\n",
    "df"
   ]
  },
  {
   "cell_type": "markdown",
   "metadata": {
    "application/vnd.databricks.v1+cell": {
     "cellMetadata": {},
     "inputWidgets": {},
     "nuid": "e3423b97-9519-49fe-a7c9-b4bfaea62c7c",
     "showTitle": false,
     "tableResultSettingsMap": {},
     "title": ""
    }
   },
   "source": [
    "## Get to know and Visualize the Data"
   ]
  },
  {
   "cell_type": "code",
   "execution_count": 27,
   "metadata": {
    "application/vnd.databricks.v1+cell": {
     "cellMetadata": {
      "byteLimit": 2048000,
      "rowLimit": 10000
     },
     "inputWidgets": {},
     "nuid": "40b3e21a-0519-4376-8391-2d6c5ffaa455",
     "showTitle": false,
     "tableResultSettingsMap": {},
     "title": ""
    }
   },
   "outputs": [
    {
     "data": {
      "application/vnd.microsoft.datawrangler.viewer.v0+json": {
       "columns": [
        {
         "name": "index",
         "rawType": "object",
         "type": "string"
        },
        {
         "name": "0",
         "rawType": "object",
         "type": "unknown"
        }
       ],
       "ref": "4847112b-0177-446e-a430-b986ebb9cadc",
       "rows": [
        [
         "Age",
         "float64"
        ],
        [
         "Gender",
         "object"
        ],
        [
         "Education Level",
         "object"
        ],
        [
         "Job Title",
         "object"
        ],
        [
         "Years of Experience",
         "float64"
        ],
        [
         "Salary",
         "float64"
        ]
       ],
       "shape": {
        "columns": 1,
        "rows": 6
       }
      },
      "text/plain": [
       "Age                    float64\n",
       "Gender                  object\n",
       "Education Level         object\n",
       "Job Title               object\n",
       "Years of Experience    float64\n",
       "Salary                 float64\n",
       "dtype: object"
      ]
     },
     "execution_count": 27,
     "metadata": {},
     "output_type": "execute_result"
    }
   ],
   "source": [
    "# This wll give you the data types of each column\n",
    "df.dtypes"
   ]
  },
  {
   "cell_type": "code",
   "execution_count": 28,
   "metadata": {
    "application/vnd.databricks.v1+cell": {
     "cellMetadata": {
      "byteLimit": 2048000,
      "rowLimit": 10000
     },
     "inputWidgets": {},
     "nuid": "6d269bb9-7a5b-4d8f-b5e3-47a60acf2503",
     "showTitle": false,
     "tableResultSettingsMap": {},
     "title": ""
    }
   },
   "outputs": [
    {
     "data": {
      "text/plain": [
       "Text(0.5, 1.0, 'Salary Distribution')"
      ]
     },
     "execution_count": 28,
     "metadata": {},
     "output_type": "execute_result"
    },
    {
     "data": {
      "image/png": "[encoded data removed]",
      "text/plain": [
       "<Figure size 640x480 with 1 Axes>"
      ]
     },
     "metadata": {},
     "output_type": "display_data"
    }
   ],
   "source": [
    "# Plot a histogram of the Salary distribution\n",
    "fig, ax = plt.subplots()\n",
    "ax.hist(df['Salary'], bins=10, edgecolor=\"black\")\n",
    "ax.set_xlabel('Salary')\n",
    "ax.set_ylabel('Frequency')\n",
    "ax.set_title('Salary Distribution')"
   ]
  },
  {
   "cell_type": "code",
   "execution_count": 29,
   "metadata": {
    "application/vnd.databricks.v1+cell": {
     "cellMetadata": {
      "byteLimit": 2048000,
      "rowLimit": 10000
     },
     "inputWidgets": {},
     "nuid": "c3909f25-9554-45c6-98fc-23cf72fc9bf6",
     "showTitle": false,
     "tableResultSettingsMap": {},
     "title": ""
    }
   },
   "outputs": [
    {
     "data": {
      "text/plain": [
       "Text(0.5, 1.0, 'Years of Experience vs Salary')"
      ]
     },
     "execution_count": 29,
     "metadata": {},
     "output_type": "execute_result"
    },
    {
     "data": {
      "image/png": "[encoded data removed]",
      "text/plain": [
       "<Figure size 640x480 with 1 Axes>"
      ]
     },
     "metadata": {},
     "output_type": "display_data"
    }
   ],
   "source": [
    "# Plot a graph of Salary vs Years of Experience\n",
    "fig_1, ax_1 = plt.subplots()\n",
    "ax_1.scatter(df['Years of Experience'], df['Salary'], edgecolor='black')\n",
    "ax_1.set_xlabel('Years of Experience')\n",
    "ax_1.set_ylabel('Salary')\n",
    "ax_1.set_title('Years of Experience vs Salary')"
   ]
  },
  {
   "cell_type": "code",
   "execution_count": 30,
   "metadata": {
    "application/vnd.databricks.v1+cell": {
     "cellMetadata": {
      "byteLimit": 2048000,
      "rowLimit": 10000
     },
     "inputWidgets": {},
     "nuid": "296e1f39-3211-4d47-859f-fea9fffa7ce7",
     "showTitle": false,
     "tableResultSettingsMap": {},
     "title": ""
    }
   },
   "outputs": [
    {
     "data": {
      "text/plain": [
       "Text(0.5, 1.0, 'Age vs Salary')"
      ]
     },
     "execution_count": 30,
     "metadata": {},
     "output_type": "execute_result"
    },
    {
     "data": {
      "image/png": "[encoded data removed]",
      "text/plain": [
       "<Figure size 640x480 with 1 Axes>"
      ]
     },
     "metadata": {},
     "output_type": "display_data"
    }
   ],
   "source": [
    "# Plot a graph of Salary vs. Age\n",
    "fig_2, ax_2 = plt.subplots()\n",
    "ax_2.scatter(df['Age'], df['Salary'], edgecolor='black')\n",
    "ax_2.set_xlabel('Age')\n",
    "ax_2.set_ylabel('Salary')\n",
    "ax_2.set_title('Age vs Salary')"
   ]
  },
  {
   "cell_type": "code",
   "execution_count": 31,
   "metadata": {
    "application/vnd.databricks.v1+cell": {
     "cellMetadata": {
      "byteLimit": 2048000,
      "rowLimit": 10000
     },
     "inputWidgets": {},
     "nuid": "eb7589fc-4b7e-47f4-bdb2-8766caa78d09",
     "showTitle": false,
     "tableResultSettingsMap": {},
     "title": ""
    }
   },
   "outputs": [
    {
     "data": {
      "text/plain": [
       "Text(0.5, 1.0, 'Gender vs Salary')"
      ]
     },
     "execution_count": 31,
     "metadata": {},
     "output_type": "execute_result"
    },
    {
     "data": {
      "image/png": "[encoded data removed]",
      "text/plain": [
       "<Figure size 640x480 with 1 Axes>"
      ]
     },
     "metadata": {},
     "output_type": "display_data"
    }
   ],
   "source": [
    "fig_3, ax_3 = plt.subplots()\n",
    "sns.boxplot(x=df['Gender'], y=df['Salary'], ax=ax_3, palette=\"Set1\")\n",
    "ax_3.set_xlabel('Gender')\n",
    "ax_3.set_title('Gender vs Salary')"
   ]
  },
  {
   "cell_type": "code",
   "execution_count": 32,
   "metadata": {
    "application/vnd.databricks.v1+cell": {
     "cellMetadata": {
      "byteLimit": 2048000,
      "rowLimit": 10000
     },
     "inputWidgets": {},
     "nuid": "2eb6cee6-cfc8-4a65-a1c2-0636bf89791b",
     "showTitle": false,
     "tableResultSettingsMap": {},
     "title": ""
    }
   },
   "outputs": [
    {
     "data": {
      "text/plain": [
       "Text(0.5, 1.0, 'Education Level vs Salary')"
      ]
     },
     "execution_count": 32,
     "metadata": {},
     "output_type": "execute_result"
    },
    {
     "data": {
      "image/png": "[encoded data removed]",
      "text/plain": [
       "<Figure size 640x480 with 1 Axes>"
      ]
     },
     "metadata": {},
     "output_type": "display_data"
    }
   ],
   "source": [
    "fig_4, ax_4 = plt.subplots()\n",
    "sns.boxplot(x=df['Education Level'], y=df['Salary'], ax=ax_4, palette=\"Set1\")\n",
    "ax_4.set_xlabel('Education Level')\n",
    "ax_4.set_title('Education Level vs Salary')"
   ]
  },
  {
   "cell_type": "code",
   "execution_count": 33,
   "metadata": {
    "application/vnd.databricks.v1+cell": {
     "cellMetadata": {
      "byteLimit": 2048000,
      "rowLimit": 10000
     },
     "inputWidgets": {},
     "nuid": "29de06d2-fc9d-4149-b6cc-f63caad74ec5",
     "showTitle": false,
     "tableResultSettingsMap": {},
     "title": ""
    }
   },
   "outputs": [
    {
     "data": {
      "text/plain": [
       "Text(0.5, 1.0, 'Correlation Matrix')"
      ]
     },
     "execution_count": 33,
     "metadata": {},
     "output_type": "execute_result"
    },
    {
     "data": {
      "image/png": "[encoded data removed]",
      "text/plain": [
       "<Figure size 640x480 with 2 Axes>"
      ]
     },
     "metadata": {},
     "output_type": "display_data"
    }
   ],
   "source": [
    "fig_5, ax_5 = plt.subplots()\n",
    "corr = df.corr(numeric_only=True)\n",
    "# np.ones_like() creates an array of ones\n",
    "# np.triu() creates a matrix where the numbers below the diagonal are equal to zero\n",
    "mask = np.triu(np.ones_like(corr, dtype=bool))\n",
    "# mask works by hiding whenever the mask is true for a specific spot in the matrix\n",
    "sns.heatmap(corr, mask=mask, cmap='coolwarm', annot=True, ax=ax_5)\n",
    "ax_5.set_title('Correlation Matrix')"
   ]
  },
  {
   "cell_type": "markdown",
   "metadata": {
    "application/vnd.databricks.v1+cell": {
     "cellMetadata": {},
     "inputWidgets": {},
     "nuid": "7d00b3ce-9709-4091-9413-6ea268eb5fc4",
     "showTitle": false,
     "tableResultSettingsMap": {},
     "title": ""
    }
   },
   "source": [
    "## Build a Linear Regression Model"
   ]
  },
  {
   "cell_type": "code",
   "execution_count": 34,
   "metadata": {
    "application/vnd.databricks.v1+cell": {
     "cellMetadata": {
      "byteLimit": 2048000,
      "rowLimit": 10000
     },
     "inputWidgets": {},
     "nuid": "1ee1642f-fef4-4acd-bb7e-be05e2e66932",
     "showTitle": false,
     "tableResultSettingsMap": {},
     "title": ""
    }
   },
   "outputs": [
    {
     "name": "stdout",
     "output_type": "stream",
     "text": [
      "R2 score on training set: 0.9014091547262573\n",
      "R2 score on test set: 0.9033022217642329\n",
      "Mean squared error on training set: 226800971.4499862\n",
      "Mean squared error on test set: 231840874.026462\n"
     ]
    }
   ],
   "source": [
    "# Make dummy variables\n",
    "df_cleaned = pd.get_dummies(df, columns=['Gender', 'Education Level']).dropna(how='any')\n",
    "df_cleaned\n",
    "#Separate X and y\n",
    "X = df_cleaned.drop(columns=[\"Job Title\", \"Salary\"]) # Dropeed Job title because it has alot of categories.\n",
    "y = df_cleaned[\"Salary\"]\n",
    "\n",
    "# Split data into training and test sets\n",
    "X_train, X_test, y_train, y_test = train_test_split(X, y, test_size=0.2, random_state=42)\n",
    "\n",
    "# Build/fit linear regression model\n",
    "model = LinearRegression()\n",
    "model.fit(X_train, y_train)\n",
    "\n",
    "# Make predictions on training set\n",
    "y_pred_train = model.predict(X_train)\n",
    "\n",
    "# Make predictions on test set\n",
    "y_pred_test = model.predict(X_test)\n",
    "\n",
    "# Evaluate model performance\n",
    "r2_train = r2_score(y_train, y_pred_train)\n",
    "mse_train = mean_squared_error(y_train, y_pred_train)\n",
    "\n",
    "r2_test = r2_score(y_test, y_pred_test)\n",
    "mse_test = mean_squared_error(y_test, y_pred_test)\n",
    "\n",
    "print(f\"R2 score on training set: {r2_train}\")\n",
    "print(f\"R2 score on test set: {r2_test}\")\n",
    "print(f\"Mean squared error on training set: {mse_train}\")\n",
    "print(f\"Mean squared error on test set: {mse_test}\")"
   ]
  },
  {
   "cell_type": "markdown",
   "metadata": {
    "application/vnd.databricks.v1+cell": {
     "cellMetadata": {},
     "inputWidgets": {},
     "nuid": "50f1eeac-5620-413f-b042-b01306900053",
     "showTitle": false,
     "tableResultSettingsMap": {},
     "title": ""
    }
   },
   "source": [
    "## Linear Regression with Statsmodels"
   ]
  },
  {
   "cell_type": "code",
   "execution_count": 35,
   "metadata": {
    "application/vnd.databricks.v1+cell": {
     "cellMetadata": {
      "byteLimit": 2048000,
      "rowLimit": 10000
     },
     "inputWidgets": {},
     "nuid": "22c40abe-578c-4458-b3eb-3d0d21f5c3a7",
     "showTitle": false,
     "tableResultSettingsMap": {},
     "title": ""
    }
   },
   "outputs": [
    {
     "data": {
      "text/html": [
       "<table class=\"simpletable\">\n",
       "<caption>OLS Regression Results</caption>\n",
       "<tr>\n",
       "  <th>Dep. Variable:</th>         <td>Salary</td>      <th>  R-squared:         </th> <td>   0.902</td> \n",
       "</tr>\n",
       "<tr>\n",
       "  <th>Model:</th>                   <td>OLS</td>       <th>  Adj. R-squared:    </th> <td>   0.900</td> \n",
       "</tr>\n",
       "<tr>\n",
       "  <th>Method:</th>             <td>Least Squares</td>  <th>  F-statistic:       </th> <td>   535.8</td> \n",
       "</tr>\n",
       "<tr>\n",
       "  <th>Date:</th>             <td>Sun, 03 Aug 2025</td> <th>  Prob (F-statistic):</th> <td>9.22e-145</td>\n",
       "</tr>\n",
       "<tr>\n",
       "  <th>Time:</th>                 <td>17:39:00</td>     <th>  Log-Likelihood:    </th> <td> -3289.1</td> \n",
       "</tr>\n",
       "<tr>\n",
       "  <th>No. Observations:</th>      <td>   298</td>      <th>  AIC:               </th> <td>   6590.</td> \n",
       "</tr>\n",
       "<tr>\n",
       "  <th>Df Residuals:</th>          <td>   292</td>      <th>  BIC:               </th> <td>   6612.</td> \n",
       "</tr>\n",
       "<tr>\n",
       "  <th>Df Model:</th>              <td>     5</td>      <th>                     </th>     <td> </td>    \n",
       "</tr>\n",
       "<tr>\n",
       "  <th>Covariance Type:</th>      <td>nonrobust</td>    <th>                     </th>     <td> </td>    \n",
       "</tr>\n",
       "</table>\n",
       "<table class=\"simpletable\">\n",
       "<tr>\n",
       "               <td></td>                 <th>coef</th>     <th>std err</th>      <th>t</th>      <th>P>|t|</th>  <th>[0.025</th>    <th>0.975]</th>  \n",
       "</tr>\n",
       "<tr>\n",
       "  <th>const</th>                      <td>-2.505e+04</td> <td> 9363.690</td> <td>   -2.675</td> <td> 0.008</td> <td>-4.35e+04</td> <td>-6617.134</td>\n",
       "</tr>\n",
       "<tr>\n",
       "  <th>Age</th>                        <td> 3552.7075</td> <td>  638.123</td> <td>    5.567</td> <td> 0.000</td> <td> 2296.803</td> <td> 4808.612</td>\n",
       "</tr>\n",
       "<tr>\n",
       "  <th>Years of Experience</th>        <td> 1979.7905</td> <td>  705.448</td> <td>    2.806</td> <td> 0.005</td> <td>  591.383</td> <td> 3368.198</td>\n",
       "</tr>\n",
       "<tr>\n",
       "  <th>Gender_Female</th>              <td>-1.636e+04</td> <td> 4857.170</td> <td>   -3.368</td> <td> 0.001</td> <td>-2.59e+04</td> <td>-6797.374</td>\n",
       "</tr>\n",
       "<tr>\n",
       "  <th>Gender_Male</th>                <td>-8689.1387</td> <td> 4670.968</td> <td>   -1.860</td> <td> 0.064</td> <td>-1.79e+04</td> <td>  503.893</td>\n",
       "</tr>\n",
       "<tr>\n",
       "  <th>Education Level_Bachelor's</th> <td>-2.431e+04</td> <td> 3501.678</td> <td>   -6.941</td> <td> 0.000</td> <td>-3.12e+04</td> <td>-1.74e+04</td>\n",
       "</tr>\n",
       "<tr>\n",
       "  <th>Education Level_Master's</th>   <td>-3873.7720</td> <td> 3360.332</td> <td>   -1.153</td> <td> 0.250</td> <td>-1.05e+04</td> <td> 2739.770</td>\n",
       "</tr>\n",
       "<tr>\n",
       "  <th>Education Level_PhD</th>        <td> 3134.3430</td> <td> 3764.359</td> <td>    0.833</td> <td> 0.406</td> <td>-4274.372</td> <td> 1.05e+04</td>\n",
       "</tr>\n",
       "</table>\n",
       "<table class=\"simpletable\">\n",
       "<tr>\n",
       "  <th>Omnibus:</th>       <td>12.954</td> <th>  Durbin-Watson:     </th> <td>   1.919</td>\n",
       "</tr>\n",
       "<tr>\n",
       "  <th>Prob(Omnibus):</th> <td> 0.002</td> <th>  Jarque-Bera (JB):  </th> <td>  29.409</td>\n",
       "</tr>\n",
       "<tr>\n",
       "  <th>Skew:</th>          <td> 0.061</td> <th>  Prob(JB):          </th> <td>4.11e-07</td>\n",
       "</tr>\n",
       "<tr>\n",
       "  <th>Kurtosis:</th>      <td> 4.534</td> <th>  Cond. No.          </th> <td>3.31e+17</td>\n",
       "</tr>\n",
       "</table><br/><br/>Notes:<br/>[1] Standard Errors assume that the covariance matrix of the errors is correctly specified.<br/>[2] The smallest eigenvalue is 4.29e-30. This might indicate that there are<br/>strong multicollinearity problems or that the design matrix is singular."
      ],
      "text/latex": [
       "\\begin{center}\n",
       "\\begin{tabular}{lclc}\n",
       "\\toprule\n",
       "\\textbf{Dep. Variable:}              &      Salary      & \\textbf{  R-squared:         } &     0.902   \\\\\n",
       "\\textbf{Model:}                      &       OLS        & \\textbf{  Adj. R-squared:    } &     0.900   \\\\\n",
       "\\textbf{Method:}                     &  Least Squares   & \\textbf{  F-statistic:       } &     535.8   \\\\\n",
       "\\textbf{Date:}                       & Sun, 03 Aug 2025 & \\textbf{  Prob (F-statistic):} & 9.22e-145   \\\\\n",
       "\\textbf{Time:}                       &     17:39:00     & \\textbf{  Log-Likelihood:    } &   -3289.1   \\\\\n",
       "\\textbf{No. Observations:}           &         298      & \\textbf{  AIC:               } &     6590.   \\\\\n",
       "\\textbf{Df Residuals:}               &         292      & \\textbf{  BIC:               } &     6612.   \\\\\n",
       "\\textbf{Df Model:}                   &           5      & \\textbf{                     } &             \\\\\n",
       "\\textbf{Covariance Type:}            &    nonrobust     & \\textbf{                     } &             \\\\\n",
       "\\bottomrule\n",
       "\\end{tabular}\n",
       "\\begin{tabular}{lcccccc}\n",
       "                                     & \\textbf{coef} & \\textbf{std err} & \\textbf{t} & \\textbf{P$> |$t$|$} & \\textbf{[0.025} & \\textbf{0.975]}  \\\\\n",
       "\\midrule\n",
       "\\textbf{const}                       &   -2.505e+04  &     9363.690     &    -2.675  &         0.008        &    -4.35e+04    &    -6617.134     \\\\\n",
       "\\textbf{Age}                         &    3552.7075  &      638.123     &     5.567  &         0.000        &     2296.803    &     4808.612     \\\\\n",
       "\\textbf{Years of Experience}         &    1979.7905  &      705.448     &     2.806  &         0.005        &      591.383    &     3368.198     \\\\\n",
       "\\textbf{Gender\\_Female}              &   -1.636e+04  &     4857.170     &    -3.368  &         0.001        &    -2.59e+04    &    -6797.374     \\\\\n",
       "\\textbf{Gender\\_Male}                &   -8689.1387  &     4670.968     &    -1.860  &         0.064        &    -1.79e+04    &      503.893     \\\\\n",
       "\\textbf{Education Level\\_Bachelor's} &   -2.431e+04  &     3501.678     &    -6.941  &         0.000        &    -3.12e+04    &    -1.74e+04     \\\\\n",
       "\\textbf{Education Level\\_Master's}   &   -3873.7720  &     3360.332     &    -1.153  &         0.250        &    -1.05e+04    &     2739.770     \\\\\n",
       "\\textbf{Education Level\\_PhD}        &    3134.3430  &     3764.359     &     0.833  &         0.406        &    -4274.372    &     1.05e+04     \\\\\n",
       "\\bottomrule\n",
       "\\end{tabular}\n",
       "\\begin{tabular}{lclc}\n",
       "\\textbf{Omnibus:}       & 12.954 & \\textbf{  Durbin-Watson:     } &    1.919  \\\\\n",
       "\\textbf{Prob(Omnibus):} &  0.002 & \\textbf{  Jarque-Bera (JB):  } &   29.409  \\\\\n",
       "\\textbf{Skew:}          &  0.061 & \\textbf{  Prob(JB):          } & 4.11e-07  \\\\\n",
       "\\textbf{Kurtosis:}      &  4.534 & \\textbf{  Cond. No.          } & 3.31e+17  \\\\\n",
       "\\bottomrule\n",
       "\\end{tabular}\n",
       "%\\caption{OLS Regression Results}\n",
       "\\end{center}\n",
       "\n",
       "Notes: \\newline\n",
       " [1] Standard Errors assume that the covariance matrix of the errors is correctly specified. \\newline\n",
       " [2] The smallest eigenvalue is 4.29e-30. This might indicate that there are \\newline\n",
       " strong multicollinearity problems or that the design matrix is singular."
      ],
      "text/plain": [
       "<class 'statsmodels.iolib.summary.Summary'>\n",
       "\"\"\"\n",
       "                            OLS Regression Results                            \n",
       "==============================================================================\n",
       "Dep. Variable:                 Salary   R-squared:                       0.902\n",
       "Model:                            OLS   Adj. R-squared:                  0.900\n",
       "Method:                 Least Squares   F-statistic:                     535.8\n",
       "Date:                Sun, 03 Aug 2025   Prob (F-statistic):          9.22e-145\n",
       "Time:                        17:39:00   Log-Likelihood:                -3289.1\n",
       "No. Observations:                 298   AIC:                             6590.\n",
       "Df Residuals:                     292   BIC:                             6612.\n",
       "Df Model:                           5                                         \n",
       "Covariance Type:            nonrobust                                         \n",
       "==============================================================================================\n",
       "                                 coef    std err          t      P>|t|      [0.025      0.975]\n",
       "----------------------------------------------------------------------------------------------\n",
       "const                      -2.505e+04   9363.690     -2.675      0.008   -4.35e+04   -6617.134\n",
       "Age                         3552.7075    638.123      5.567      0.000    2296.803    4808.612\n",
       "Years of Experience         1979.7905    705.448      2.806      0.005     591.383    3368.198\n",
       "Gender_Female              -1.636e+04   4857.170     -3.368      0.001   -2.59e+04   -6797.374\n",
       "Gender_Male                -8689.1387   4670.968     -1.860      0.064   -1.79e+04     503.893\n",
       "Education Level_Bachelor's -2.431e+04   3501.678     -6.941      0.000   -3.12e+04   -1.74e+04\n",
       "Education Level_Master's   -3873.7720   3360.332     -1.153      0.250   -1.05e+04    2739.770\n",
       "Education Level_PhD         3134.3430   3764.359      0.833      0.406   -4274.372    1.05e+04\n",
       "==============================================================================\n",
       "Omnibus:                       12.954   Durbin-Watson:                   1.919\n",
       "Prob(Omnibus):                  0.002   Jarque-Bera (JB):               29.409\n",
       "Skew:                           0.061   Prob(JB):                     4.11e-07\n",
       "Kurtosis:                       4.534   Cond. No.                     3.31e+17\n",
       "==============================================================================\n",
       "\n",
       "Notes:\n",
       "[1] Standard Errors assume that the covariance matrix of the errors is correctly specified.\n",
       "[2] The smallest eigenvalue is 4.29e-30. This might indicate that there are\n",
       "strong multicollinearity problems or that the design matrix is singular.\n",
       "\"\"\""
      ]
     },
     "execution_count": 35,
     "metadata": {},
     "output_type": "execute_result"
    }
   ],
   "source": [
    "import statsmodels.api as sm\n",
    "\n",
    "# Convert boolean columns to integers\n",
    "X_train_sm = sm.add_constant(X_train).astype(int)\n",
    "\n",
    "lr_model = sm.OLS(y_train, X_train_sm).fit()\n",
    "\n",
    "\n",
    "# Make predictions on training set\n",
    "y_pred_train_sm = lr_model.predict(X_train_sm)\n",
    "lr_model.summary()"
   ]
  }
 ],
 "metadata": {
  "application/vnd.databricks.v1+notebook": {
   "computePreferences": null,
   "dashboards": [],
   "environmentMetadata": {
    "base_environment": "",
    "environment_version": "2"
   },
   "inputWidgetPreferences": null,
   "language": "python",
   "notebookMetadata": {
    "pythonIndentUnit": 4
   },
   "notebookName": "Lesson_2_Data_Visualization_and_Linear_Regression",
   "widgets": {}
  },
  "kernelspec": {
   "display_name": "pythondatasciencelesson-1",
   "language": "python",
   "name": "python3"
  },
  "language_info": {
   "codemirror_mode": {
    "name": "ipython",
    "version": 3
   },
   "file_extension": ".py",
   "mimetype": "text/x-python",
   "name": "python",
   "nbconvert_exporter": "python",
   "pygments_lexer": "ipython3",
   "version": "3.13.5"
  }
 },
 "nbformat": 4,
 "nbformat_minor": 0
}
