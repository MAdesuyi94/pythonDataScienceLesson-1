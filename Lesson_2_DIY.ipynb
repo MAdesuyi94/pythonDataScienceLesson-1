{
 "cells": [
  {
   "cell_type": "markdown",
   "id": "022505ef",
   "metadata": {},
   "source": [
    "# Lesson 2: Data Exploration and Linear Regression - Do It Yourself"
   ]
  },
  {
   "cell_type": "markdown",
   "id": "5b1033fa",
   "metadata": {},
   "source": [
    "## Import Packages"
   ]
  },
  {
   "cell_type": "code",
   "execution_count": 2,
   "id": "d6cae619",
   "metadata": {},
   "outputs": [],
   "source": [
    "#Importing packages\n",
    "import pandas as pd # Package for data manipulation\n",
    "import numpy as np # Package for working with arrays and matrices\n",
    "import matplotlib.pyplot as plt # Package for creating visualizations\n",
    "import seaborn as sns # Packag for creating visualizations (easier & more colorful than matplotlib)\n",
    "from sklearn.model_selection import train_test_split # Package for splitting data into training and testing sets\n",
    "from sklearn.linear_model import LinearRegression # Package for building linear regression models\n",
    "from sklearn.metrics import r2_score, mean_squared_error # Package for evaluating model performance\n",
    "import statsmodels.api as sm\n",
    "import warnings\n",
    "warnings.filterwarnings('ignore') # Mute Warnings"
   ]
  }
 ],
 "metadata": {
  "kernelspec": {
   "display_name": "pythondatasciencelesson-1",
   "language": "python",
   "name": "python3"
  },
  "language_info": {
   "codemirror_mode": {
    "name": "ipython",
    "version": 3
   },
   "file_extension": ".py",
   "mimetype": "text/x-python",
   "name": "python",
   "nbconvert_exporter": "python",
   "pygments_lexer": "ipython3",
   "version": "3.13.5"
  }
 },
 "nbformat": 4,
 "nbformat_minor": 5
}
